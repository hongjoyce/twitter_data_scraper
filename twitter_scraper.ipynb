{
 "cells": [
  {
   "cell_type": "code",
   "execution_count": 1,
   "id": "ddc647be",
   "metadata": {},
   "outputs": [],
   "source": [
    "import selenium\n",
    "from selenium import webdriver\n",
    "from selenium.webdriver.common.by import By\n",
    "from selenium.webdriver.common.keys import Keys\n",
    "from selenium.webdriver.chrome.service import Service\n",
    "from time import sleep\n",
    "import pandas as pd"
   ]
  },
  {
   "cell_type": "markdown",
   "id": "9e1d7710",
   "metadata": {},
   "source": [
    "### Set up driver"
   ]
  },
  {
   "cell_type": "code",
   "execution_count": 2,
   "id": "e4e534e8",
   "metadata": {},
   "outputs": [],
   "source": [
    "service = Service('/Users/hongjiang/Downloads/chromedriver')\n",
    "service.start()"
   ]
  },
  {
   "cell_type": "code",
   "execution_count": 3,
   "id": "f7a66454",
   "metadata": {},
   "outputs": [],
   "source": [
    "driver = webdriver.Remote(service.service_url)"
   ]
  },
  {
   "cell_type": "markdown",
   "id": "98adc434",
   "metadata": {},
   "source": [
    "### Pick the url"
   ]
  },
  {
   "cell_type": "code",
   "execution_count": 4,
   "id": "f13aee5f",
   "metadata": {},
   "outputs": [],
   "source": [
    "driver.get(\"https://twitter.com/\")"
   ]
  },
  {
   "cell_type": "markdown",
   "id": "13056839",
   "metadata": {},
   "source": [
    "### Select subject for searching"
   ]
  },
  {
   "cell_type": "code",
   "execution_count": 5,
   "id": "d7647623",
   "metadata": {},
   "outputs": [],
   "source": [
    "subject = \"Elon Musk\"\n",
    "\n",
    "# Search item and fetch it\n",
    "sleep(3)\n",
    "search_box = driver.find_element(By.XPATH,\"//input[@data-testid='SearchBox_Search_Input']\")\n",
    "search_box.send_keys(subject)\n",
    "search_box.send_keys(Keys.ENTER)"
   ]
  },
  {
   "cell_type": "code",
   "execution_count": 7,
   "id": "f380e002",
   "metadata": {},
   "outputs": [],
   "source": [
    "sleep(5)\n",
    "people = driver.find_element(By.XPATH,\"//span[contains(text(),'Not now')]\")\n",
    "people.click()"
   ]
  },
  {
   "cell_type": "code",
   "execution_count": 8,
   "id": "8d66ec28",
   "metadata": {},
   "outputs": [],
   "source": [
    "sleep(6)\n",
    "people = driver.find_element(By.XPATH,\"//span[contains(text(),'Elon Musk')]\")\n",
    "people.click()"
   ]
  },
  {
   "cell_type": "code",
   "execution_count": 9,
   "id": "514eb5a5",
   "metadata": {},
   "outputs": [],
   "source": [
    "# UserTag = driver.find_element(By.XPATH,\"//div[@data-testid='User-Names']\").text\n",
    "# TimeStamp = driver.find_element(By.XPATH,\"//time\").get_attribute('datetime')\n",
    "# Tweet = driver.find_element(By.XPATH,\"//div[@data-testid='tweetText']\").text\n",
    "# Reply = driver.find_element(By.XPATH,\"//div[@data-testid='reply']\").text\n",
    "# reTweet = driver.find_element(By.XPATH,\"//div[@data-testid='retweet']\").text\n",
    "# Like = driver.find_element(By.XPATH,\"//div[@data-testid='like']\").text"
   ]
  },
  {
   "cell_type": "code",
   "execution_count": 10,
   "id": "508ec63b",
   "metadata": {},
   "outputs": [],
   "source": [
    "UserTags=[]\n",
    "TimeStamps=[]\n",
    "Tweets=[]\n",
    "Replys=[]\n",
    "reTweets=[]\n",
    "Likes=[]"
   ]
  },
  {
   "cell_type": "code",
   "execution_count": 11,
   "id": "5f2fc20e",
   "metadata": {},
   "outputs": [],
   "source": [
    "sleep(20)\n",
    "articles = driver.find_elements(By.XPATH,\"//article[@data-testid='tweet']\")"
   ]
  },
  {
   "cell_type": "code",
   "execution_count": null,
   "id": "5f3ecf42",
   "metadata": {},
   "outputs": [],
   "source": [
    "print(len(articles))"
   ]
  },
  {
   "cell_type": "markdown",
   "id": "db41d0fb",
   "metadata": {},
   "source": [
    "### Choose how many tweets to scrape"
   ]
  },
  {
   "cell_type": "code",
   "execution_count": 13,
   "id": "18bb8c46",
   "metadata": {},
   "outputs": [],
   "source": [
    "while True:\n",
    "    for article in articles: \n",
    "        try: \n",
    "            TimeStamp = article.find_element(By.XPATH,\".//time\").get_attribute('datetime')\n",
    "            UserTag = article.find_element(By.XPATH,\".//div[@data-testid='User-Names']\").text\n",
    "            Tweet = article.find_element(By.XPATH,\".//div[@data-testid='tweetText']\").text\n",
    "            Reply = article.find_element(By.XPATH,\".//div[@data-testid='reply']\").text\n",
    "            reTweet = article.find_element(By.XPATH,\".//div[@data-testid='retweet']\").text\n",
    "            Like = article.find_element(By.XPATH,\".//div[@data-testid='like']\").text\n",
    "        except:\n",
    "            continue\n",
    "        else:\n",
    "            TimeStamps.append(TimeStamp)\n",
    "            UserTags.append(UserTag)\n",
    "            Tweets.append(Tweet)\n",
    "            Replys.append(Reply)\n",
    "            reTweets.append(reTweet)\n",
    "            Likes.append(Like)\n",
    "\n",
    "    driver.execute_script('window.scrollTo(0,document.body.scrollHeight);')\n",
    "    sleep(3)\n",
    "    articles = driver.find_elements(By.XPATH,\"//article[@data-testid='tweet']\")\n",
    "    Tweets2 = list(set(Tweets))\n",
    "    if len(Tweets2) > 150:\n",
    "        break"
   ]
  },
  {
   "cell_type": "code",
   "execution_count": 14,
   "id": "67a9fe8e",
   "metadata": {},
   "outputs": [
    {
     "name": "stdout",
     "output_type": "stream",
     "text": [
      "166 166 161 166 166 166\n"
     ]
    }
   ],
   "source": [
    "print(len(UserTags),\n",
    "len(TimeStamps),\n",
    "len(set(Tweets)),\n",
    "len(Replys),\n",
    "len(reTweets),\n",
    "len(Likes))"
   ]
  },
  {
   "cell_type": "code",
   "execution_count": 15,
   "id": "1fd1eb4b",
   "metadata": {},
   "outputs": [],
   "source": [
    "df = pd.DataFrame(zip(UserTags,TimeStamps,Tweets,Replys,reTweets,Likes)\n",
    "                  ,columns=['UserTags','TimeStamps','Tweets','Replys','reTweets','Likes'])"
   ]
  },
  {
   "cell_type": "code",
   "execution_count": 18,
   "id": "b600e6e2",
   "metadata": {},
   "outputs": [
    {
     "data": {
      "text/html": [
       "<div>\n",
       "<style scoped>\n",
       "    .dataframe tbody tr th:only-of-type {\n",
       "        vertical-align: middle;\n",
       "    }\n",
       "\n",
       "    .dataframe tbody tr th {\n",
       "        vertical-align: top;\n",
       "    }\n",
       "\n",
       "    .dataframe thead th {\n",
       "        text-align: right;\n",
       "    }\n",
       "</style>\n",
       "<table border=\"1\" class=\"dataframe\">\n",
       "  <thead>\n",
       "    <tr style=\"text-align: right;\">\n",
       "      <th></th>\n",
       "      <th>UserTags</th>\n",
       "      <th>TimeStamps</th>\n",
       "      <th>Tweets</th>\n",
       "      <th>Replys</th>\n",
       "      <th>reTweets</th>\n",
       "      <th>Likes</th>\n",
       "    </tr>\n",
       "  </thead>\n",
       "  <tbody>\n",
       "    <tr>\n",
       "      <th>0</th>\n",
       "      <td>Elon Musk\\n@elonmusk\\n·\\nDec 12</td>\n",
       "      <td>2022-12-12T19:36:52.000Z</td>\n",
       "      <td>Under pressure from hundreds of activist emplo...</td>\n",
       "      <td>22.7K</td>\n",
       "      <td>69.8K</td>\n",
       "      <td>299.6K</td>\n",
       "    </tr>\n",
       "    <tr>\n",
       "      <th>1</th>\n",
       "      <td>Elon Musk\\n@elonmusk\\n·\\n11h</td>\n",
       "      <td>2022-12-13T07:54:49.000Z</td>\n",
       "      <td>The ratio of digital to biological compute is ...</td>\n",
       "      <td>11.4K</td>\n",
       "      <td>10.9K</td>\n",
       "      <td>151.1K</td>\n",
       "    </tr>\n",
       "    <tr>\n",
       "      <th>2</th>\n",
       "      <td>Elon Musk\\n@elonmusk\\n·\\n18h</td>\n",
       "      <td>2022-12-13T01:15:20.000Z</td>\n",
       "      <td>Follow</td>\n",
       "      <td>37.6K</td>\n",
       "      <td>40.1K</td>\n",
       "      <td>381.8K</td>\n",
       "    </tr>\n",
       "    <tr>\n",
       "      <th>3</th>\n",
       "      <td>Elon Musk\\n@elonmusk\\n·\\nDec 12</td>\n",
       "      <td>2022-12-12T19:46:04.000Z</td>\n",
       "      <td></td>\n",
       "      <td>30.3K</td>\n",
       "      <td>64K</td>\n",
       "      <td>708.8K</td>\n",
       "    </tr>\n",
       "    <tr>\n",
       "      <th>4</th>\n",
       "      <td>Elon Musk\\n@elonmusk\\n·\\nDec 12</td>\n",
       "      <td>2022-12-12T14:21:31.000Z</td>\n",
       "      <td>The Branch Covidians are upset lol</td>\n",
       "      <td>36K</td>\n",
       "      <td>56.3K</td>\n",
       "      <td>483.4K</td>\n",
       "    </tr>\n",
       "  </tbody>\n",
       "</table>\n",
       "</div>"
      ],
      "text/plain": [
       "                          UserTags                TimeStamps  \\\n",
       "0  Elon Musk\\n@elonmusk\\n·\\nDec 12  2022-12-12T19:36:52.000Z   \n",
       "1     Elon Musk\\n@elonmusk\\n·\\n11h  2022-12-13T07:54:49.000Z   \n",
       "2     Elon Musk\\n@elonmusk\\n·\\n18h  2022-12-13T01:15:20.000Z   \n",
       "3  Elon Musk\\n@elonmusk\\n·\\nDec 12  2022-12-12T19:46:04.000Z   \n",
       "4  Elon Musk\\n@elonmusk\\n·\\nDec 12  2022-12-12T14:21:31.000Z   \n",
       "\n",
       "                                              Tweets Replys reTweets   Likes  \n",
       "0  Under pressure from hundreds of activist emplo...  22.7K    69.8K  299.6K  \n",
       "1  The ratio of digital to biological compute is ...  11.4K    10.9K  151.1K  \n",
       "2                                            Follow   37.6K    40.1K  381.8K  \n",
       "3                                                     30.3K      64K  708.8K  \n",
       "4                 The Branch Covidians are upset lol    36K    56.3K  483.4K  "
      ]
     },
     "execution_count": 18,
     "metadata": {},
     "output_type": "execute_result"
    }
   ],
   "source": [
    "df.head(5)"
   ]
  },
  {
   "cell_type": "markdown",
   "id": "17d119c4",
   "metadata": {},
   "source": [
    "### Save to csv"
   ]
  },
  {
   "cell_type": "code",
   "execution_count": 17,
   "id": "e1c2010c",
   "metadata": {},
   "outputs": [],
   "source": [
    "df.to_csv('scraper_elonmusk.csv', index = False)  "
   ]
  }
 ],
 "metadata": {
  "kernelspec": {
   "display_name": "Python 3 (ipykernel)",
   "language": "python",
   "name": "python3"
  },
  "language_info": {
   "codemirror_mode": {
    "name": "ipython",
    "version": 3
   },
   "file_extension": ".py",
   "mimetype": "text/x-python",
   "name": "python",
   "nbconvert_exporter": "python",
   "pygments_lexer": "ipython3",
   "version": "3.9.13"
  },
  "toc": {
   "base_numbering": 1,
   "nav_menu": {},
   "number_sections": true,
   "sideBar": true,
   "skip_h1_title": false,
   "title_cell": "Table of Contents",
   "title_sidebar": "Contents",
   "toc_cell": false,
   "toc_position": {},
   "toc_section_display": true,
   "toc_window_display": false
  }
 },
 "nbformat": 4,
 "nbformat_minor": 5
}
